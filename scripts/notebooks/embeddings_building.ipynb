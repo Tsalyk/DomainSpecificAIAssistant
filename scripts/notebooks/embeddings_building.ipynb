{
 "cells": [
  {
   "cell_type": "code",
   "execution_count": 2,
   "metadata": {},
   "outputs": [],
   "source": [
    "import pandas as pd\n",
    "import numpy as np\n",
    "import ast\n",
    "import os\n",
    "\n",
    "from tqdm import tqdm\n",
    "from tqdm.notebook import tqdm\n",
    "tqdm.pandas()"
   ]
  },
  {
   "cell_type": "code",
   "execution_count": 3,
   "metadata": {},
   "outputs": [],
   "source": [
    "df = pd.read_csv('data/data.csv')\n",
    "df['genres'] = df['genres'].apply(ast.literal_eval)\n",
    "df['genres'] = df['genres'].apply(lambda x: [item.lower() for item in x])"
   ]
  },
  {
   "cell_type": "code",
   "execution_count": 4,
   "metadata": {},
   "outputs": [
    {
     "data": {
      "text/plain": [
       "['action', 'adventure', 'animation', 'anime', 'british shows']"
      ]
     },
     "execution_count": 4,
     "metadata": {},
     "output_type": "execute_result"
    }
   ],
   "source": [
    "genres = open('genres.txt', 'r').readlines()\n",
    "genres = list(map(lambda g: g.strip(), genres))\n",
    "genres[:5]"
   ]
  },
  {
   "cell_type": "code",
   "execution_count": 4,
   "metadata": {},
   "outputs": [],
   "source": [
    "def generate_validation_data() -> None:\n",
    "    N = 1000\n",
    "    validation_df = pd.DataFrame(columns=df.columns)\n",
    "    for g in genres:\n",
    "        selected_movies = df[df['genres'].apply(lambda x: g in x)]\n",
    "        size = int(N *  (selected_movies.shape[0] / df.shape[0]))\n",
    "        validation_df = pd.concat([validation_df, selected_movies.sample(size, random_state=42)])\n",
    "\n",
    "    validation_df.reset_index(drop=True).to_csv('data/valid_data.csv', index=False)"
   ]
  },
  {
   "cell_type": "code",
   "execution_count": 5,
   "metadata": {},
   "outputs": [
    {
     "data": {
      "text/html": [
       "<div>\n",
       "<style scoped>\n",
       "    .dataframe tbody tr th:only-of-type {\n",
       "        vertical-align: middle;\n",
       "    }\n",
       "\n",
       "    .dataframe tbody tr th {\n",
       "        vertical-align: top;\n",
       "    }\n",
       "\n",
       "    .dataframe thead th {\n",
       "        text-align: right;\n",
       "    }\n",
       "</style>\n",
       "<table border=\"1\" class=\"dataframe\">\n",
       "  <thead>\n",
       "    <tr style=\"text-align: right;\">\n",
       "      <th></th>\n",
       "      <th>title</th>\n",
       "      <th>genres</th>\n",
       "      <th>year</th>\n",
       "      <th>description</th>\n",
       "    </tr>\n",
       "  </thead>\n",
       "  <tbody>\n",
       "    <tr>\n",
       "      <th>0</th>\n",
       "      <td>Black Panther</td>\n",
       "      <td>[action, adventure, sci-fi]</td>\n",
       "      <td>2017</td>\n",
       "      <td>Thousands of years ago, five African tribes wa...</td>\n",
       "    </tr>\n",
       "    <tr>\n",
       "      <th>1</th>\n",
       "      <td>Appleseed (Appurushîdo)</td>\n",
       "      <td>[action, animation, fantasy, sci-fi]</td>\n",
       "      <td>2004</td>\n",
       "      <td>Deunan Knute, a young soldier and one of the G...</td>\n",
       "    </tr>\n",
       "    <tr>\n",
       "      <th>2</th>\n",
       "      <td>Beverly Hills Cop</td>\n",
       "      <td>[action, comedy, crime, drama]</td>\n",
       "      <td>1984</td>\n",
       "      <td>Young, reckless, yet experienced Detroit Polic...</td>\n",
       "    </tr>\n",
       "    <tr>\n",
       "      <th>3</th>\n",
       "      <td>Behind Enemy Lines II: Axis of Evil</td>\n",
       "      <td>[action, thriller, war]</td>\n",
       "      <td>2006</td>\n",
       "      <td>The story is not linked to the first part of t...</td>\n",
       "    </tr>\n",
       "    <tr>\n",
       "      <th>4</th>\n",
       "      <td>Green Zone</td>\n",
       "      <td>[action, drama, thriller, war]</td>\n",
       "      <td>2010</td>\n",
       "      <td>On March 19, 2003, Iraqi Army General Mohammed...</td>\n",
       "    </tr>\n",
       "    <tr>\n",
       "      <th>...</th>\n",
       "      <td>...</td>\n",
       "      <td>...</td>\n",
       "      <td>...</td>\n",
       "      <td>...</td>\n",
       "    </tr>\n",
       "    <tr>\n",
       "      <th>1911</th>\n",
       "      <td>Dust</td>\n",
       "      <td>[drama, western]</td>\n",
       "      <td>2001</td>\n",
       "      <td>A New York thief, a tough-as-nails hundred-yea...</td>\n",
       "    </tr>\n",
       "    <tr>\n",
       "      <th>1912</th>\n",
       "      <td>Apple Dumpling Gang Rides Again, The</td>\n",
       "      <td>[children, comedy, western]</td>\n",
       "      <td>1979</td>\n",
       "      <td>Amos Tucker (Conway) and Theodore Ogelvie (Kno...</td>\n",
       "    </tr>\n",
       "    <tr>\n",
       "      <th>1913</th>\n",
       "      <td>Slow West</td>\n",
       "      <td>[action, thriller, western]</td>\n",
       "      <td>2015</td>\n",
       "      <td>Jay Cavendish, a young Scotsman, travels to th...</td>\n",
       "    </tr>\n",
       "    <tr>\n",
       "      <th>1914</th>\n",
       "      <td>Outlaw Josey Wales, The</td>\n",
       "      <td>[action, adventure, drama, thriller, western]</td>\n",
       "      <td>1976</td>\n",
       "      <td>Josey Wales, a Missouri farmer, is driven to r...</td>\n",
       "    </tr>\n",
       "    <tr>\n",
       "      <th>1915</th>\n",
       "      <td>Ox-Bow Incident, The</td>\n",
       "      <td>[drama, western]</td>\n",
       "      <td>1943</td>\n",
       "      <td>In Bridger's Wells, Nevada in 1885, two cowboy...</td>\n",
       "    </tr>\n",
       "  </tbody>\n",
       "</table>\n",
       "<p>1916 rows × 4 columns</p>\n",
       "</div>"
      ],
      "text/plain": [
       "                                     title  \\\n",
       "0                            Black Panther   \n",
       "1                  Appleseed (Appurushîdo)   \n",
       "2                        Beverly Hills Cop   \n",
       "3      Behind Enemy Lines II: Axis of Evil   \n",
       "4                               Green Zone   \n",
       "...                                    ...   \n",
       "1911                                  Dust   \n",
       "1912  Apple Dumpling Gang Rides Again, The   \n",
       "1913                             Slow West   \n",
       "1914               Outlaw Josey Wales, The   \n",
       "1915                  Ox-Bow Incident, The   \n",
       "\n",
       "                                             genres  year  \\\n",
       "0                       [action, adventure, sci-fi]  2017   \n",
       "1              [action, animation, fantasy, sci-fi]  2004   \n",
       "2                    [action, comedy, crime, drama]  1984   \n",
       "3                           [action, thriller, war]  2006   \n",
       "4                    [action, drama, thriller, war]  2010   \n",
       "...                                             ...   ...   \n",
       "1911                               [drama, western]  2001   \n",
       "1912                    [children, comedy, western]  1979   \n",
       "1913                    [action, thriller, western]  2015   \n",
       "1914  [action, adventure, drama, thriller, western]  1976   \n",
       "1915                               [drama, western]  1943   \n",
       "\n",
       "                                            description  \n",
       "0     Thousands of years ago, five African tribes wa...  \n",
       "1     Deunan Knute, a young soldier and one of the G...  \n",
       "2     Young, reckless, yet experienced Detroit Polic...  \n",
       "3     The story is not linked to the first part of t...  \n",
       "4     On March 19, 2003, Iraqi Army General Mohammed...  \n",
       "...                                                 ...  \n",
       "1911  A New York thief, a tough-as-nails hundred-yea...  \n",
       "1912  Amos Tucker (Conway) and Theodore Ogelvie (Kno...  \n",
       "1913  Jay Cavendish, a young Scotsman, travels to th...  \n",
       "1914  Josey Wales, a Missouri farmer, is driven to r...  \n",
       "1915  In Bridger's Wells, Nevada in 1885, two cowboy...  \n",
       "\n",
       "[1916 rows x 4 columns]"
      ]
     },
     "execution_count": 5,
     "metadata": {},
     "output_type": "execute_result"
    }
   ],
   "source": [
    "valid_df = pd.read_csv('data/valid_data.csv')\n",
    "valid_df['genres'] = valid_df['genres'].apply(ast.literal_eval)\n",
    "valid_df"
   ]
  },
  {
   "cell_type": "code",
   "execution_count": 6,
   "metadata": {},
   "outputs": [],
   "source": [
    "from langchain.text_splitter import CharacterTextSplitter, RecursiveCharacterTextSplitter\n",
    "from langchain_experimental.text_splitter import SemanticChunker\n",
    "from sentence_transformers import SentenceTransformer\n",
    "import logging\n",
    "logging.getLogger().setLevel(logging.ERROR)\n",
    "\n",
    "\n",
    "class CustomEmbedder:\n",
    "    def __init__(self, embedder) -> None:\n",
    "        self.embedder = embedder\n",
    "\n",
    "    def get_embedding(self, text: str) -> list:\n",
    "        embeddings = self.embedder.encode(text, convert_to_tensor=False)\n",
    "        return embeddings.tolist()\n",
    "    \n",
    "    def embed_documents(self, documents: list) -> list:\n",
    "        return [self.get_embedding(doc) for doc in documents]\n",
    "\n",
    "    def embed_query(self, query: str) -> list:\n",
    "        return self.get_embedding(query)\n",
    "\n",
    "\n",
    "def fixed_size_chunking(description: str, embedder: SentenceTransformer) -> list:\n",
    "    text_splitter = CharacterTextSplitter(\n",
    "                        separator=\"\\n\",\n",
    "                        chunk_size=1024,\n",
    "                        chunk_overlap=20\n",
    "                    )\n",
    "    docs = text_splitter.split_text(description)\n",
    "    return docs\n",
    "\n",
    "def semantic_chunking(description: str, embedder: SentenceTransformer) -> list:\n",
    "    emb = CustomEmbedder(embedder)\n",
    "    text_splitter = SemanticChunker(emb)\n",
    "    docs = text_splitter.split_text(description)\n",
    "    return docs\n",
    "\n",
    "def recursive_chunking(description: str, embedder: SentenceTransformer) -> list:\n",
    "    text_splitter = RecursiveCharacterTextSplitter(\n",
    "                                chunk_size=1024,\n",
    "                                chunk_overlap=20,\n",
    "                                length_function=len,\n",
    "                                is_separator_regex=False,\n",
    "                            )\n",
    "    docs = text_splitter.split_text(description)\n",
    "    return docs\n",
    "\n",
    "def get_embedding(embedder: SentenceTransformer, text: str) -> list:\n",
    "    embeddings = embedder.encode(text, convert_to_tensor=False)\n",
    "    return embeddings.tolist()\n",
    "\n",
    "def insert_embeddings(df: pd.DataFrame, embedder: SentenceTransformer, title: str, descriptions: list) -> pd.DataFrame:\n",
    "    for description in descriptions:\n",
    "        embedding = get_embedding(embedder=embedder, text=description)\n",
    "        df = pd.concat([df, pd.DataFrame({'title': [title], 'description': [description], 'embedding': [embedding]})])\n",
    "    return df\n",
    "\n",
    "def embed_movies(df: pd.DataFrame, embedder_name: str, splitter_name: str):\n",
    "    splitter_functions = {\n",
    "        'fixed-size-splitter': fixed_size_chunking,\n",
    "        'semantic-splitter': semantic_chunking,\n",
    "        'recursive-splitter': recursive_chunking\n",
    "    }\n",
    "    embedder = SentenceTransformer(embedder_name)\n",
    "    df['description_chunks'] = df['description'].progress_apply(lambda x: splitter_functions[splitter_name](x, embedder))\n",
    "\n",
    "    embedding_df = pd.DataFrame({'title': [], 'description': [], 'embedding': []})\n",
    "\n",
    "    for (i, (_, row)) in zip(tqdm(range(len(df))), df.iterrows()):\n",
    "        title = row['title']\n",
    "        descriptions = row['description_chunks']\n",
    "        embedding_df = insert_embeddings(embedding_df, embedder, title, descriptions)\n",
    "\n",
    "    os.makedirs(f'embeddings/{splitter_name}', exist_ok=True)\n",
    "    os.makedirs(f'embeddings/{splitter_name}/{embedder_name}', exist_ok=True)\n",
    "    embedding_df.to_csv(f'embeddings/{splitter_name}/{embedder_name}/embeddings.csv', index=False)"
   ]
  },
  {
   "cell_type": "code",
   "execution_count": 64,
   "metadata": {},
   "outputs": [
    {
     "name": "stderr",
     "output_type": "stream",
     "text": [
      "100%|██████████| 18136/18136 [36:29<00:00,  8.28it/s] \n"
     ]
    }
   ],
   "source": [
    "embed_movies(\n",
    "    df=valid_df,\n",
    "    embedder_name='all-MiniLM-L6-v2',\n",
    "    splitter_name='fixed-size-splitter'\n",
    "    )"
   ]
  },
  {
   "cell_type": "code",
   "execution_count": 73,
   "metadata": {},
   "outputs": [
    {
     "name": "stderr",
     "output_type": "stream",
     "text": [
      "100%|██████████| 18136/18136 [3:13:12<00:00,  1.56it/s]  \n"
     ]
    }
   ],
   "source": [
    "embed_movies(\n",
    "    df=valid_df,\n",
    "    embedder_name='gtr-t5-base',\n",
    "    splitter_name='fixed-size-splitter'\n",
    "    )"
   ]
  },
  {
   "cell_type": "code",
   "execution_count": 5,
   "metadata": {},
   "outputs": [
    {
     "data": {
      "application/vnd.jupyter.widget-view+json": {
       "model_id": "9d148cb4c18943e4b99001916c2c9062",
       "version_major": 2,
       "version_minor": 0
      },
      "text/plain": [
       "pytorch_model.bin:   0%|          | 0.00/438M [00:00<?, ?B/s]"
      ]
     },
     "metadata": {},
     "output_type": "display_data"
    },
    {
     "data": {
      "application/vnd.jupyter.widget-view+json": {
       "model_id": "7563caa572f647e7a15a680f083213c8",
       "version_major": 2,
       "version_minor": 0
      },
      "text/plain": [
       "sentence_bert_config.json:   0%|          | 0.00/53.0 [00:00<?, ?B/s]"
      ]
     },
     "metadata": {},
     "output_type": "display_data"
    },
    {
     "data": {
      "application/vnd.jupyter.widget-view+json": {
       "model_id": "c2beb71e623c452e93079be807b57f0a",
       "version_major": 2,
       "version_minor": 0
      },
      "text/plain": [
       "special_tokens_map.json:   0%|          | 0.00/112 [00:00<?, ?B/s]"
      ]
     },
     "metadata": {},
     "output_type": "display_data"
    },
    {
     "data": {
      "application/vnd.jupyter.widget-view+json": {
       "model_id": "902c9309e44e49628da4fab739df04ba",
       "version_major": 2,
       "version_minor": 0
      },
      "text/plain": [
       "tokenizer.json:   0%|          | 0.00/466k [00:00<?, ?B/s]"
      ]
     },
     "metadata": {},
     "output_type": "display_data"
    },
    {
     "data": {
      "application/vnd.jupyter.widget-view+json": {
       "model_id": "5ad085d0eaff4d9b9729214947c28d11",
       "version_major": 2,
       "version_minor": 0
      },
      "text/plain": [
       "tokenizer_config.json:   0%|          | 0.00/399 [00:00<?, ?B/s]"
      ]
     },
     "metadata": {},
     "output_type": "display_data"
    },
    {
     "data": {
      "application/vnd.jupyter.widget-view+json": {
       "model_id": "6ebc2b750eb04bcea0c508a652133fbd",
       "version_major": 2,
       "version_minor": 0
      },
      "text/plain": [
       "vocab.txt:   0%|          | 0.00/232k [00:00<?, ?B/s]"
      ]
     },
     "metadata": {},
     "output_type": "display_data"
    },
    {
     "data": {
      "application/vnd.jupyter.widget-view+json": {
       "model_id": "a8fefe0450904734b94393c8f8dd775e",
       "version_major": 2,
       "version_minor": 0
      },
      "text/plain": [
       "modules.json:   0%|          | 0.00/229 [00:00<?, ?B/s]"
      ]
     },
     "metadata": {},
     "output_type": "display_data"
    },
    {
     "name": "stderr",
     "output_type": "stream",
     "text": [
      "100%|██████████| 18136/18136 [1:39:29<00:00,  3.04it/s] \n"
     ]
    }
   ],
   "source": [
    "embed_movies(\n",
    "    df=valid_df,\n",
    "    embedder_name='bert-base-nli-mean-tokens',\n",
    "    splitter_name='fixed-size-splitter'\n",
    "    )"
   ]
  },
  {
   "cell_type": "code",
   "execution_count": 16,
   "metadata": {},
   "outputs": [
    {
     "data": {
      "application/vnd.jupyter.widget-view+json": {
       "model_id": "225bd042b3804b1f8e697155be25cdf9",
       "version_major": 2,
       "version_minor": 0
      },
      "text/plain": [
       "  0%|          | 0/1916 [00:00<?, ?it/s]"
      ]
     },
     "metadata": {},
     "output_type": "display_data"
    },
    {
     "data": {
      "application/vnd.jupyter.widget-view+json": {
       "model_id": "f00cc403bdbf449cac738595dbddcaa4",
       "version_major": 2,
       "version_minor": 0
      },
      "text/plain": [
       "  0%|          | 0/1916 [00:00<?, ?it/s]"
      ]
     },
     "metadata": {},
     "output_type": "display_data"
    }
   ],
   "source": [
    "embed_movies(\n",
    "    df=valid_df,\n",
    "    embedder_name='all-MiniLM-L6-v2',\n",
    "    splitter_name='semantic-splitter'\n",
    "    )"
   ]
  },
  {
   "cell_type": "code",
   "execution_count": 18,
   "metadata": {},
   "outputs": [
    {
     "data": {
      "application/vnd.jupyter.widget-view+json": {
       "model_id": "3c297f8113b9445b84b2ce043031aff8",
       "version_major": 2,
       "version_minor": 0
      },
      "text/plain": [
       "  0%|          | 0/1916 [00:00<?, ?it/s]"
      ]
     },
     "metadata": {},
     "output_type": "display_data"
    },
    {
     "data": {
      "application/vnd.jupyter.widget-view+json": {
       "model_id": "7e5d3ad320db44dc9b3d9a3eebd6195f",
       "version_major": 2,
       "version_minor": 0
      },
      "text/plain": [
       "  0%|          | 0/1916 [00:00<?, ?it/s]"
      ]
     },
     "metadata": {},
     "output_type": "display_data"
    }
   ],
   "source": [
    "embed_movies(\n",
    "    df=valid_df,\n",
    "    embedder_name='gtr-t5-base',\n",
    "    splitter_name='semantic-splitter'\n",
    "    )"
   ]
  },
  {
   "cell_type": "code",
   "execution_count": 20,
   "metadata": {},
   "outputs": [
    {
     "data": {
      "application/vnd.jupyter.widget-view+json": {
       "model_id": "01ef2e24dec544d09db6e675525f771a",
       "version_major": 2,
       "version_minor": 0
      },
      "text/plain": [
       "  0%|          | 0/1916 [00:00<?, ?it/s]"
      ]
     },
     "metadata": {},
     "output_type": "display_data"
    },
    {
     "data": {
      "application/vnd.jupyter.widget-view+json": {
       "model_id": "3bbeb976941246a0a459616d2e499c09",
       "version_major": 2,
       "version_minor": 0
      },
      "text/plain": [
       "  0%|          | 0/1916 [00:00<?, ?it/s]"
      ]
     },
     "metadata": {},
     "output_type": "display_data"
    }
   ],
   "source": [
    "embed_movies(\n",
    "    df=valid_df,\n",
    "    embedder_name='bert-base-nli-mean-tokens',\n",
    "    splitter_name='semantic-splitter'\n",
    "    )"
   ]
  },
  {
   "cell_type": "code",
   "execution_count": 23,
   "metadata": {},
   "outputs": [
    {
     "data": {
      "application/vnd.jupyter.widget-view+json": {
       "model_id": "928b79cc2a2b427799d5db8ece91997f",
       "version_major": 2,
       "version_minor": 0
      },
      "text/plain": [
       "  0%|          | 0/1916 [00:00<?, ?it/s]"
      ]
     },
     "metadata": {},
     "output_type": "display_data"
    },
    {
     "data": {
      "application/vnd.jupyter.widget-view+json": {
       "model_id": "a2e913e5ac6243b9909b12eba1123162",
       "version_major": 2,
       "version_minor": 0
      },
      "text/plain": [
       "  0%|          | 0/1916 [00:00<?, ?it/s]"
      ]
     },
     "metadata": {},
     "output_type": "display_data"
    }
   ],
   "source": [
    "embed_movies(\n",
    "    df=valid_df,\n",
    "    embedder_name='all-MiniLM-L6-v2',\n",
    "    splitter_name='recursive-splitter'\n",
    "    )"
   ]
  },
  {
   "cell_type": "code",
   "execution_count": 25,
   "metadata": {},
   "outputs": [
    {
     "data": {
      "application/vnd.jupyter.widget-view+json": {
       "model_id": "783c5d5342714e6b85b1430bc4214a2d",
       "version_major": 2,
       "version_minor": 0
      },
      "text/plain": [
       "  0%|          | 0/1916 [00:00<?, ?it/s]"
      ]
     },
     "metadata": {},
     "output_type": "display_data"
    },
    {
     "data": {
      "application/vnd.jupyter.widget-view+json": {
       "model_id": "c6d109ca2c714ca396a79b872d77a0d6",
       "version_major": 2,
       "version_minor": 0
      },
      "text/plain": [
       "  0%|          | 0/1916 [00:00<?, ?it/s]"
      ]
     },
     "metadata": {},
     "output_type": "display_data"
    }
   ],
   "source": [
    "embed_movies(\n",
    "    df=valid_df,\n",
    "    embedder_name='gtr-t5-base',\n",
    "    splitter_name='recursive-splitter'\n",
    "    )"
   ]
  },
  {
   "cell_type": "code",
   "execution_count": 27,
   "metadata": {},
   "outputs": [
    {
     "data": {
      "application/vnd.jupyter.widget-view+json": {
       "model_id": "7b1eecfd6c74424ead63de42684689ba",
       "version_major": 2,
       "version_minor": 0
      },
      "text/plain": [
       "  0%|          | 0/1916 [00:00<?, ?it/s]"
      ]
     },
     "metadata": {},
     "output_type": "display_data"
    },
    {
     "data": {
      "application/vnd.jupyter.widget-view+json": {
       "model_id": "325606ae6876446db984cb61f31cd540",
       "version_major": 2,
       "version_minor": 0
      },
      "text/plain": [
       "  0%|          | 0/1916 [00:00<?, ?it/s]"
      ]
     },
     "metadata": {},
     "output_type": "display_data"
    }
   ],
   "source": [
    "embed_movies(\n",
    "    df=valid_df,\n",
    "    embedder_name='bert-base-nli-mean-tokens',\n",
    "    splitter_name='recursive-splitter'\n",
    "    )"
   ]
  },
  {
   "cell_type": "code",
   "execution_count": 61,
   "metadata": {},
   "outputs": [
    {
     "data": {
      "text/html": [
       "<div>\n",
       "<style scoped>\n",
       "    .dataframe tbody tr th:only-of-type {\n",
       "        vertical-align: middle;\n",
       "    }\n",
       "\n",
       "    .dataframe tbody tr th {\n",
       "        vertical-align: top;\n",
       "    }\n",
       "\n",
       "    .dataframe thead th {\n",
       "        text-align: right;\n",
       "    }\n",
       "</style>\n",
       "<table border=\"1\" class=\"dataframe\">\n",
       "  <thead>\n",
       "    <tr style=\"text-align: right;\">\n",
       "      <th></th>\n",
       "      <th>title</th>\n",
       "      <th>description</th>\n",
       "      <th>embedding</th>\n",
       "      <th>year</th>\n",
       "    </tr>\n",
       "  </thead>\n",
       "  <tbody>\n",
       "    <tr>\n",
       "      <th>0</th>\n",
       "      <td>Black Panther</td>\n",
       "      <td>'Thousands of years ago, five African tribes w...</td>\n",
       "      <td>[0.05258965864777565, 1.1091506481170654, -1.3...</td>\n",
       "      <td>2017</td>\n",
       "    </tr>\n",
       "    <tr>\n",
       "      <th>1</th>\n",
       "      <td>Black Panther</td>\n",
       "      <td>'A firefight erupts, and Klaue attempts to fle...</td>\n",
       "      <td>[-0.4872041344642639, 0.5775945782661438, 0.94...</td>\n",
       "      <td>2017</td>\n",
       "    </tr>\n",
       "    <tr>\n",
       "      <th>2</th>\n",
       "      <td>Black Panther</td>\n",
       "      <td>\"In a mid-credits scene, T'Challa appears befo...</td>\n",
       "      <td>[0.2455192357301712, 0.720119833946228, 0.7539...</td>\n",
       "      <td>2017</td>\n",
       "    </tr>\n",
       "    <tr>\n",
       "      <th>3</th>\n",
       "      <td>Appleseed (Appurushîdo)</td>\n",
       "      <td>\"Deunan Knute, a young soldier and one of the ...</td>\n",
       "      <td>[-0.270588219165802, 0.45870858430862427, -0.4...</td>\n",
       "      <td>2004</td>\n",
       "    </tr>\n",
       "    <tr>\n",
       "      <th>4</th>\n",
       "      <td>Appleseed (Appurushîdo)</td>\n",
       "      <td>\"While there, Deunan joins the counter-terrori...</td>\n",
       "      <td>[-0.23201650381088257, 0.535647451877594, -0.7...</td>\n",
       "      <td>2004</td>\n",
       "    </tr>\n",
       "    <tr>\n",
       "      <th>...</th>\n",
       "      <td>...</td>\n",
       "      <td>...</td>\n",
       "      <td>...</td>\n",
       "      <td>...</td>\n",
       "    </tr>\n",
       "    <tr>\n",
       "      <th>4150</th>\n",
       "      <td>Outlaw Josey Wales, The</td>\n",
       "      <td>'They include an old Cherokee man named Lone W...</td>\n",
       "      <td>[-0.6129461526870728, 0.49364399909973145, 0.1...</td>\n",
       "      <td>1976</td>\n",
       "    </tr>\n",
       "    <tr>\n",
       "      <th>4151</th>\n",
       "      <td>Outlaw Josey Wales, The</td>\n",
       "      <td>'I guess we all died a little in that damned w...</td>\n",
       "      <td>[0.3415108621120453, 0.13879993557929993, 0.51...</td>\n",
       "      <td>1976</td>\n",
       "    </tr>\n",
       "    <tr>\n",
       "      <th>4152</th>\n",
       "      <td>Ox-Bow Incident, The</td>\n",
       "      <td>\"In Bridger's Wells, Nevada in 1885, two cowbo...</td>\n",
       "      <td>[0.12608852982521057, 0.5382971167564392, 0.02...</td>\n",
       "      <td>1943</td>\n",
       "    </tr>\n",
       "    <tr>\n",
       "      <th>4153</th>\n",
       "      <td>Ox-Bow Incident, The</td>\n",
       "      <td>\"His son, Gerald, comes with him. Soon, news a...</td>\n",
       "      <td>[0.04774336516857147, 0.6165558099746704, 0.06...</td>\n",
       "      <td>1943</td>\n",
       "    </tr>\n",
       "    <tr>\n",
       "      <th>4154</th>\n",
       "      <td>Ox-Bow Incident, The</td>\n",
       "      <td>\"After the lynching, the posse returns to Brid...</td>\n",
       "      <td>[-0.22943447530269623, 0.6920036673545837, 0.5...</td>\n",
       "      <td>1943</td>\n",
       "    </tr>\n",
       "  </tbody>\n",
       "</table>\n",
       "<p>4155 rows × 4 columns</p>\n",
       "</div>"
      ],
      "text/plain": [
       "                        title  \\\n",
       "0               Black Panther   \n",
       "1               Black Panther   \n",
       "2               Black Panther   \n",
       "3     Appleseed (Appurushîdo)   \n",
       "4     Appleseed (Appurushîdo)   \n",
       "...                       ...   \n",
       "4150  Outlaw Josey Wales, The   \n",
       "4151  Outlaw Josey Wales, The   \n",
       "4152     Ox-Bow Incident, The   \n",
       "4153     Ox-Bow Incident, The   \n",
       "4154     Ox-Bow Incident, The   \n",
       "\n",
       "                                            description  \\\n",
       "0     'Thousands of years ago, five African tribes w...   \n",
       "1     'A firefight erupts, and Klaue attempts to fle...   \n",
       "2     \"In a mid-credits scene, T'Challa appears befo...   \n",
       "3     \"Deunan Knute, a young soldier and one of the ...   \n",
       "4     \"While there, Deunan joins the counter-terrori...   \n",
       "...                                                 ...   \n",
       "4150  'They include an old Cherokee man named Lone W...   \n",
       "4151  'I guess we all died a little in that damned w...   \n",
       "4152  \"In Bridger's Wells, Nevada in 1885, two cowbo...   \n",
       "4153  \"His son, Gerald, comes with him. Soon, news a...   \n",
       "4154  \"After the lynching, the posse returns to Brid...   \n",
       "\n",
       "                                              embedding  year  \n",
       "0     [0.05258965864777565, 1.1091506481170654, -1.3...  2017  \n",
       "1     [-0.4872041344642639, 0.5775945782661438, 0.94...  2017  \n",
       "2     [0.2455192357301712, 0.720119833946228, 0.7539...  2017  \n",
       "3     [-0.270588219165802, 0.45870858430862427, -0.4...  2004  \n",
       "4     [-0.23201650381088257, 0.535647451877594, -0.7...  2004  \n",
       "...                                                 ...   ...  \n",
       "4150  [-0.6129461526870728, 0.49364399909973145, 0.1...  1976  \n",
       "4151  [0.3415108621120453, 0.13879993557929993, 0.51...  1976  \n",
       "4152  [0.12608852982521057, 0.5382971167564392, 0.02...  1943  \n",
       "4153  [0.04774336516857147, 0.6165558099746704, 0.06...  1943  \n",
       "4154  [-0.22943447530269623, 0.6920036673545837, 0.5...  1943  \n",
       "\n",
       "[4155 rows x 4 columns]"
      ]
     },
     "execution_count": 61,
     "metadata": {},
     "output_type": "execute_result"
    }
   ],
   "source": [
    "emb_name = 'all-MiniLM-L6-v2'\n",
    "emb_name = 'gtr-t5-base'\n",
    "emb_name = 'bert-base-nli-mean-tokens'\n",
    "\n",
    "chunking = \"fixed-size-splitter\"\n",
    "chunking = \"recursive-splitter\"\n",
    "chunking = \"semantic-splitter\"\n",
    "\n",
    "path = f'embeddings/{chunking}/{emb_name}/embeddings.csv'\n",
    "emb = pd.read_csv(path)\n",
    "emb['embedding'] = emb['embedding'].apply(ast.literal_eval)\n",
    "emb"
   ]
  },
  {
   "cell_type": "code",
   "execution_count": 62,
   "metadata": {},
   "outputs": [],
   "source": [
    "def clean_genres(genres_list: list):\n",
    "    cleaned_genres = []\n",
    "    for g in genres_list:\n",
    "        g = g.lower().replace(\"'\", \"\").replace(\"-\", \"_\").replace(\" \", \"_\")\n",
    "        if \"&\" in g:\n",
    "            g = g.split('&')\n",
    "            g = list(map(lambda genre: genre.strip(), g))\n",
    "            g = list(filter(lambda genre: genre in genres, g))\n",
    "            cleaned_genres.extend(g)\n",
    "        elif g in genres:\n",
    "            cleaned_genres.append(g)\n",
    "    return cleaned_genres\n",
    "\n",
    "def make_list(genres_list):\n",
    "    return genres_list.split(',')\n",
    "\n",
    "emb['genres'] = None\n",
    "\n",
    "for title in emb['title'].unique():\n",
    "    g = valid_df[valid_df['title'] == title]['genres'].iloc[0]\n",
    "    emb.loc[emb['title'] == title, 'genres'] = \",\".join(g)\n",
    "\n",
    "emb['genres'] = emb['genres'].apply(make_list)\n",
    "emb['genres'] = emb['genres'].apply(clean_genres)"
   ]
  },
  {
   "cell_type": "code",
   "execution_count": null,
   "metadata": {},
   "outputs": [],
   "source": []
  }
 ],
 "metadata": {
  "kernelspec": {
   "display_name": "Python 3",
   "language": "python",
   "name": "python3"
  },
  "language_info": {
   "codemirror_mode": {
    "name": "ipython",
    "version": 3
   },
   "file_extension": ".py",
   "mimetype": "text/x-python",
   "name": "python",
   "nbconvert_exporter": "python",
   "pygments_lexer": "ipython3",
   "version": "3.9.0"
  }
 },
 "nbformat": 4,
 "nbformat_minor": 2
}
